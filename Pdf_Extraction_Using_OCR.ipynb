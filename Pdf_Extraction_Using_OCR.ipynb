{
 "cells": [
  {
   "cell_type": "markdown",
   "id": "17c784f5",
   "metadata": {},
   "source": [
    "## Install Libraries"
   ]
  },
  {
   "cell_type": "code",
   "execution_count": 1,
   "id": "8c3bed7c",
   "metadata": {},
   "outputs": [],
   "source": [
    "# pip install PyMuPDF pillow pytesseract\n"
   ]
  },
  {
   "cell_type": "markdown",
   "id": "61892fb6",
   "metadata": {},
   "source": [
    "## Import Libraries"
   ]
  },
  {
   "cell_type": "code",
   "execution_count": 2,
   "id": "c9d21b63",
   "metadata": {},
   "outputs": [],
   "source": [
    "import fitz  \n",
    "import pytesseract\n",
    "from PIL import Image\n",
    "import io\n",
    "import re\n",
    "import pandas as pd\n",
    "import os"
   ]
  },
  {
   "cell_type": "markdown",
   "id": "c16abe47",
   "metadata": {},
   "source": [
    "## Open PDF"
   ]
  },
  {
   "cell_type": "code",
   "execution_count": 3,
   "id": "96b1d8d1",
   "metadata": {},
   "outputs": [],
   "source": [
    "pytesseract.pytesseract.tesseract_cmd = r'C:\\\\Program Files (x86)\\\\Tesseract-OCR\\\\tesseract.exe'\n",
    "\n",
    "pdf_path = 'highlight.pdf'  ## write your pdf name or path\n",
    "\n",
    "pdf_document = fitz.open(pdf_path)\n",
    "\n"
   ]
  },
  {
   "cell_type": "markdown",
   "id": "7af532f6",
   "metadata": {},
   "source": [
    "## Extract Data"
   ]
  },
  {
   "cell_type": "code",
   "execution_count": 4,
   "id": "210b203f",
   "metadata": {},
   "outputs": [
    {
     "name": "stdout",
     "output_type": "stream",
     "text": [
      "CITY OF EL PASO\n",
      "MUNICIPAL COURT NO. 4\n",
      "CASE IDENTIFICATION SLIP\n",
      "\n",
      " \n",
      "\n",
      "THE STATE OF TEXAS Court Date: 05/28/2024\n",
      "\n",
      "Case Number: TR—2024-0007 141\n",
      "Vs Citation No: T47 33917\n",
      "ALEJANDRA MENDOZA Violation: Speeding — city roadway\n",
      "Salah George Al-Hanna Violation Date: 01/25/2024\n",
      "\n",
      "Defendant appeared in Court on 05/28/2024, and the following sentencing happened:\n",
      "\n",
      "YOU WILL BE NOTIFIED OF A NEW TRIAL DATE BY MAIL.\n",
      "\n",
      "r\n",
      "s\n",
      "X\n",
      "l\n",
      "l\n",
      "\n",
      " \n",
      "\n",
      "IF YOU WERE FOUND GUILTY PLEASE PAY CASHIER\n",
      "\n",
      "If you were found guilty and need a payment plan to pay the fines/fees/state costs, please see the Court’s\n",
      "Collection Division immediately after court for information. Thirty days from the date of conviction gfound\n",
      "\n",
      "guilty date 3, a State Mandated fee of $15.00 will be added to any remaining balances.\n",
      "\n",
      "If a warrant was activated on this case, additional fees may have been added that must be paid to\n",
      "release the hold on your driver’s license ($30.00) or your vehicle registration ($20.00). The fees are\n",
      "\n",
      "added on each case and must be paid whether you have been found guilty or whether the case was\n",
      "dismissed.\n",
      "\n",
      "Si fue encontrado culpable y necesita un plan de page para pagar su multa favor de pasar a la seccién de\n",
      "coleccién para informacion. 30 dias después de la fecha gue fue encontrado culpable si todavia tiene un\n",
      "saldo pendiente, el Estado agregara $15.00 a cada saldo pendiente.\n",
      "\n",
      "Si una orden de arresto fue expedida anteriormente en este caso, habra gastos adicionales que pagar\n",
      "para liberar su licencia ($30.00) 0 el registro de su vehiculo ($20.00). Estos gastos estan agregados en\n",
      "cada caso y deberan ser liquidados ya sea que su caso fue encontrado culpable 0 disculpado.\n",
      "\n",
      " \n",
      "\n",
      "\n"
     ]
    }
   ],
   "source": [
    "for page_number in range(pdf_document.page_count):\n",
    "    \n",
    " \n",
    "    page = pdf_document.load_page(page_number)\n",
    "    \n",
    "    image_list = page.get_images(full=True)\n",
    "    \n",
    "    if not image_list:\n",
    "        print(f\"No images found on page {page_number + 1}\")\n",
    "        continue\n",
    "        \n",
    "    # Take the first image (assuming one image per page)\n",
    "    img_index = image_list[0][0]\n",
    "    base_image = pdf_document.extract_image(img_index)\n",
    "    image_bytes = base_image[\"image\"]\n",
    "    image = Image.open(io.BytesIO(image_bytes))\n",
    "    \n",
    "    # Use Tesseract to do OCR on the image\n",
    "    text = pytesseract.image_to_string(image)\n",
    "    \n",
    "    print(text)"
   ]
  },
  {
   "cell_type": "code",
   "execution_count": null,
   "id": "870b74e8",
   "metadata": {},
   "outputs": [],
   "source": []
  }
 ],
 "metadata": {
  "kernelspec": {
   "display_name": "Python 3 (ipykernel)",
   "language": "python",
   "name": "python3"
  },
  "language_info": {
   "codemirror_mode": {
    "name": "ipython",
    "version": 3
   },
   "file_extension": ".py",
   "mimetype": "text/x-python",
   "name": "python",
   "nbconvert_exporter": "python",
   "pygments_lexer": "ipython3",
   "version": "3.11.4"
  }
 },
 "nbformat": 4,
 "nbformat_minor": 5
}
